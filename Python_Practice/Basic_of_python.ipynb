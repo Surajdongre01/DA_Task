{
 "cells": [
  {
   "cell_type": "code",
   "execution_count": 1,
   "id": "02e1828a-2c56-4744-9879-45370998daf9",
   "metadata": {},
   "outputs": [
    {
     "data": {
      "text/plain": [
       "5"
      ]
     },
     "execution_count": 1,
     "metadata": {},
     "output_type": "execute_result"
    }
   ],
   "source": [
    "2+ 3\n"
   ]
  },
  {
   "cell_type": "markdown",
   "id": "0ed01c09-4a68-4997-8101-d334fe726471",
   "metadata": {},
   "source": [
    "## this code shows the output given in below cell"
   ]
  },
  {
   "cell_type": "raw",
   "id": "74627fac-6fb2-496b-8a01-6e436c9d734b",
   "metadata": {},
   "source": [
    "# Raw\n",
    "# heading 1\n",
    "## heading 2\n",
    "### heading 3\n",
    "#### heading 4\n",
    "##### heading 5\n",
    "###### heading 6 \n"
   ]
  },
  {
   "cell_type": "markdown",
   "id": "4e32548b-eade-4fb5-9c32-87c2628ca6c6",
   "metadata": {},
   "source": [
    "#### markdown\n",
    "\n",
    "# heading 1\n",
    "## heading 2\n",
    "### heading 3\n",
    "#### heading 4\n",
    "##### heading 5\n",
    "###### heading 6 "
   ]
  },
  {
   "cell_type": "markdown",
   "id": "350d73eb-82a9-4704-a4cc-179f208fa0f3",
   "metadata": {},
   "source": [
    "# create bullet"
   ]
  },
  {
   "cell_type": "markdown",
   "id": "6119bfe7-8ba0-4283-9cea-7347d9b94bfd",
   "metadata": {},
   "source": [
    "# Arc Data Analytics\n",
    "* Excel\n",
    "* postgresql\n",
    "* powerBi\n",
    "* mongoDB\n",
    "* tableau\n",
    "* python "
   ]
  },
  {
   "cell_type": "markdown",
   "id": "cabb57b5-2f24-4af0-8f86-885e31db739b",
   "metadata": {},
   "source": [
    "# Basic Arithmatic Operations"
   ]
  },
  {
   "cell_type": "markdown",
   "id": "b47ac998-14a4-4409-876c-64677e8e6cb0",
   "metadata": {},
   "source": [
    "### Add"
   ]
  },
  {
   "cell_type": "code",
   "execution_count": 3,
   "id": "a5668f87-46e0-4351-95b1-45d0d90d8736",
   "metadata": {},
   "outputs": [
    {
     "data": {
      "text/plain": [
       "50"
      ]
     },
     "execution_count": 3,
     "metadata": {},
     "output_type": "execute_result"
    }
   ],
   "source": [
    "49+1"
   ]
  },
  {
   "cell_type": "code",
   "execution_count": 4,
   "id": "38842170-821f-458b-81a7-c8139c805e5d",
   "metadata": {},
   "outputs": [
    {
     "name": "stdout",
     "output_type": "stream",
     "text": [
      "50\n"
     ]
    }
   ],
   "source": [
    "val1 = 49 + 1\n",
    "\n",
    "print(val1)"
   ]
  },
  {
   "cell_type": "markdown",
   "id": "eb31caf8-ea04-451f-8d54-700ac9ae1888",
   "metadata": {},
   "source": [
    "## Sub"
   ]
  },
  {
   "cell_type": "code",
   "execution_count": 5,
   "id": "91ee8d43-c9d3-4f58-bfe4-3ec6c044b622",
   "metadata": {},
   "outputs": [
    {
     "data": {
      "text/plain": [
       "8"
      ]
     },
     "execution_count": 5,
     "metadata": {},
     "output_type": "execute_result"
    }
   ],
   "source": [
    "10 - 2"
   ]
  },
  {
   "cell_type": "code",
   "execution_count": 6,
   "id": "de2f9a15-0993-42c8-bafc-aa1cc0b92df3",
   "metadata": {},
   "outputs": [
    {
     "name": "stdout",
     "output_type": "stream",
     "text": [
      "8\n"
     ]
    }
   ],
   "source": [
    "val2 = 10 - 2\n",
    "\n",
    "print(val2)"
   ]
  },
  {
   "cell_type": "markdown",
   "id": "db311f37-99d1-4fb7-8b41-b4de35949d7e",
   "metadata": {},
   "source": [
    "## Multiplication"
   ]
  },
  {
   "cell_type": "code",
   "execution_count": 7,
   "id": "44cac8df-3900-487c-9b77-97fa9a1c95bf",
   "metadata": {},
   "outputs": [
    {
     "data": {
      "text/plain": [
       "50"
      ]
     },
     "execution_count": 7,
     "metadata": {},
     "output_type": "execute_result"
    }
   ],
   "source": [
    "10*5"
   ]
  },
  {
   "cell_type": "code",
   "execution_count": 8,
   "id": "6d909087-0216-4aa8-8446-eda713880384",
   "metadata": {},
   "outputs": [
    {
     "name": "stdout",
     "output_type": "stream",
     "text": [
      "50\n"
     ]
    }
   ],
   "source": [
    "val3 = 10 * 5\n",
    "\n",
    "print(val3)"
   ]
  },
  {
   "cell_type": "markdown",
   "id": "55b17542-e0c2-466d-bb0a-d20f36e960e6",
   "metadata": {},
   "source": [
    "## Division "
   ]
  },
  {
   "cell_type": "code",
   "execution_count": 9,
   "id": "8a387baa-d01b-4003-9da9-67d46feed511",
   "metadata": {},
   "outputs": [
    {
     "data": {
      "text/plain": [
       "25.0"
      ]
     },
     "execution_count": 9,
     "metadata": {},
     "output_type": "execute_result"
    }
   ],
   "source": [
    "50/2"
   ]
  },
  {
   "cell_type": "code",
   "execution_count": 10,
   "id": "e46eaaf2-665c-47cd-8027-b08a4918b537",
   "metadata": {},
   "outputs": [
    {
     "name": "stdout",
     "output_type": "stream",
     "text": [
      "25.0\n"
     ]
    }
   ],
   "source": [
    "val4 = 50/2\n",
    "\n",
    "print(val4)"
   ]
  },
  {
   "cell_type": "markdown",
   "id": "dfe7d16b-049c-4088-be40-e3959293a3d1",
   "metadata": {},
   "source": [
    "## All values"
   ]
  },
  {
   "cell_type": "code",
   "execution_count": 12,
   "id": "36d2ccb7-a4ca-42f5-a9d0-f738f1b09378",
   "metadata": {},
   "outputs": [
    {
     "name": "stdout",
     "output_type": "stream",
     "text": [
      "50\n",
      "8\n",
      "50\n",
      "25.0\n"
     ]
    }
   ],
   "source": [
    "print(val1)\n",
    "print(val2)\n",
    "print(val3)\n",
    "print(val4)"
   ]
  },
  {
   "cell_type": "code",
   "execution_count": 14,
   "id": "732715a9-eb8c-4477-9c2c-d1382b163c9a",
   "metadata": {},
   "outputs": [
    {
     "name": "stdout",
     "output_type": "stream",
     "text": [
      "25\n"
     ]
    }
   ],
   "source": [
    "# power value\n",
    "\n",
    "print(5**2)"
   ]
  },
  {
   "cell_type": "code",
   "execution_count": 15,
   "id": "dec19d31-dcbd-4da6-8bc1-b1df4aa5bc4f",
   "metadata": {},
   "outputs": [
    {
     "name": "stdout",
     "output_type": "stream",
     "text": [
      "4.8\n",
      "4\n"
     ]
    }
   ],
   "source": [
    "# mod\n",
    "\n",
    "print(24 / 5)\n",
    "print(24 % 5)"
   ]
  },
  {
   "cell_type": "code",
   "execution_count": 18,
   "id": "4bd1d534-9786-448a-8100-8e0e6368ed3d",
   "metadata": {},
   "outputs": [
    {
     "name": "stdout",
     "output_type": "stream",
     "text": [
      "20\n",
      "24\n"
     ]
    }
   ],
   "source": [
    "# bodmas\n",
    "\n",
    "print(10+5*2)\n",
    "print((10+2)*2)"
   ]
  },
  {
   "cell_type": "code",
   "execution_count": null,
   "id": "14525a2c-c83d-482b-8091-886923877df9",
   "metadata": {},
   "outputs": [],
   "source": []
  }
 ],
 "metadata": {
  "kernelspec": {
   "display_name": "Python 3 (ipykernel)",
   "language": "python",
   "name": "python3"
  },
  "language_info": {
   "codemirror_mode": {
    "name": "ipython",
    "version": 3
   },
   "file_extension": ".py",
   "mimetype": "text/x-python",
   "name": "python",
   "nbconvert_exporter": "python",
   "pygments_lexer": "ipython3",
   "version": "3.11.7"
  }
 },
 "nbformat": 4,
 "nbformat_minor": 5
}
