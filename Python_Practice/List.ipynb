{
 "cells": [
  {
   "cell_type": "markdown",
   "id": "5cfc7917-67c1-48b9-b220-fa4da1904631",
   "metadata": {},
   "source": [
    "# List"
   ]
  },
  {
   "cell_type": "code",
   "execution_count": 11,
   "id": "4b2060a7-1026-4995-bf58-cd69281cc37f",
   "metadata": {},
   "outputs": [
    {
     "data": {
      "text/plain": [
       "[]"
      ]
     },
     "execution_count": 11,
     "metadata": {},
     "output_type": "execute_result"
    }
   ],
   "source": [
    "# empty list\n",
    "[ ] "
   ]
  },
  {
   "cell_type": "code",
   "execution_count": 12,
   "id": "d257ed42-238d-462d-8c69-e232b46ef394",
   "metadata": {},
   "outputs": [
    {
     "data": {
      "text/plain": [
       "[1, 2, 3, 4, 5, 6]"
      ]
     },
     "execution_count": 12,
     "metadata": {},
     "output_type": "execute_result"
    }
   ],
   "source": [
    "# list of numbers \n",
    "\n",
    "[1,2,3,4,5,6]"
   ]
  },
  {
   "cell_type": "code",
   "execution_count": 13,
   "id": "10f34cc1-5316-4598-9954-5647b3bd6dd6",
   "metadata": {},
   "outputs": [
    {
     "data": {
      "text/plain": [
       "['a1', 'b1', 'c1', 'd1', 'e1']"
      ]
     },
     "execution_count": 13,
     "metadata": {},
     "output_type": "execute_result"
    }
   ],
   "source": [
    "# list of strings\n",
    "\n",
    "['a1','b1','c1','d1','e1']"
   ]
  },
  {
   "cell_type": "code",
   "execution_count": 14,
   "id": "6c605a49-3674-403c-b492-8ad560f0c252",
   "metadata": {},
   "outputs": [
    {
     "data": {
      "text/plain": [
       "['a1', 1, 'b1', 2, 'c1', 3]"
      ]
     },
     "execution_count": 14,
     "metadata": {},
     "output_type": "execute_result"
    }
   ],
   "source": [
    "# list of number and string\n",
    "\n",
    "['a1',1,'b1',2,'c1',3]"
   ]
  },
  {
   "cell_type": "code",
   "execution_count": 15,
   "id": "b0b95a36-797f-4877-a942-29d1232123ce",
   "metadata": {},
   "outputs": [
    {
     "name": "stdout",
     "output_type": "stream",
     "text": [
      "[1, 'arc', True]\n"
     ]
    }
   ],
   "source": [
    "# list with number, string , boolean \n",
    "\n",
    "my_list = [1, \"arc\", True]\n",
    "\n",
    "print(my_list)"
   ]
  },
  {
   "cell_type": "code",
   "execution_count": 16,
   "id": "be1a6203-1d85-4e8c-99e8-4e6b36e30464",
   "metadata": {},
   "outputs": [
    {
     "name": "stdout",
     "output_type": "stream",
     "text": [
      "[10, 20, 30, 40, 50, 60, 70, 80]\n"
     ]
    }
   ],
   "source": [
    "mylist = [10,20,30,40,50,60,70,80]\n",
    "\n",
    "print(mylist)"
   ]
  },
  {
   "cell_type": "code",
   "execution_count": 17,
   "id": "245739da-3b5c-4ae9-8112-61a16c2b2822",
   "metadata": {},
   "outputs": [
    {
     "data": {
      "text/plain": [
       "10"
      ]
     },
     "execution_count": 17,
     "metadata": {},
     "output_type": "execute_result"
    }
   ],
   "source": [
    "mylist[0]"
   ]
  },
  {
   "cell_type": "code",
   "execution_count": 18,
   "id": "b687a8ae-6b28-427c-9121-8e25f22c8a3d",
   "metadata": {},
   "outputs": [
    {
     "data": {
      "text/plain": [
       "40"
      ]
     },
     "execution_count": 18,
     "metadata": {},
     "output_type": "execute_result"
    }
   ],
   "source": [
    "mylist[3]"
   ]
  },
  {
   "cell_type": "code",
   "execution_count": 19,
   "id": "1c534c4f-a606-4fb5-b5a1-e21e1ed80982",
   "metadata": {},
   "outputs": [
    {
     "data": {
      "text/plain": [
       "60"
      ]
     },
     "execution_count": 19,
     "metadata": {},
     "output_type": "execute_result"
    }
   ],
   "source": [
    "mylist[-3]"
   ]
  },
  {
   "cell_type": "code",
   "execution_count": 20,
   "id": "7e197acc-8f75-4089-a29b-40b56af61a64",
   "metadata": {},
   "outputs": [
    {
     "data": {
      "text/plain": [
       "[10, 20, 30, 40, 50]"
      ]
     },
     "execution_count": 20,
     "metadata": {},
     "output_type": "execute_result"
    }
   ],
   "source": [
    "mylist[0:5]"
   ]
  },
  {
   "cell_type": "code",
   "execution_count": 21,
   "id": "361a0146-3e2e-41ae-8990-72de4b610cc2",
   "metadata": {},
   "outputs": [
    {
     "data": {
      "text/plain": [
       "[20, 30]"
      ]
     },
     "execution_count": 21,
     "metadata": {},
     "output_type": "execute_result"
    }
   ],
   "source": [
    "mylist[1:3]"
   ]
  },
  {
   "cell_type": "code",
   "execution_count": 22,
   "id": "c52ef229-b43a-481c-9e39-5764784c94d5",
   "metadata": {},
   "outputs": [
    {
     "data": {
      "text/plain": [
       "80"
      ]
     },
     "execution_count": 22,
     "metadata": {},
     "output_type": "execute_result"
    }
   ],
   "source": [
    "mylist[-1]"
   ]
  },
  {
   "cell_type": "code",
   "execution_count": 23,
   "id": "4bc93963-b0be-43c5-9a67-0ea713600c8e",
   "metadata": {},
   "outputs": [
    {
     "data": {
      "text/plain": [
       "[10, 20, 30, 40]"
      ]
     },
     "execution_count": 23,
     "metadata": {},
     "output_type": "execute_result"
    }
   ],
   "source": [
    "mylist[:4]"
   ]
  },
  {
   "cell_type": "code",
   "execution_count": 24,
   "id": "1203decb-f96d-4c80-8895-3aafb410fa42",
   "metadata": {},
   "outputs": [
    {
     "data": {
      "text/plain": [
       "[20, 30, 40, 50, 60, 70, 80]"
      ]
     },
     "execution_count": 24,
     "metadata": {},
     "output_type": "execute_result"
    }
   ],
   "source": [
    "mylist[1:]"
   ]
  },
  {
   "cell_type": "code",
   "execution_count": 25,
   "id": "b8fcb163-4adf-435f-860b-310d13b46c2f",
   "metadata": {},
   "outputs": [
    {
     "data": {
      "text/plain": [
       "True"
      ]
     },
     "execution_count": 25,
     "metadata": {},
     "output_type": "execute_result"
    }
   ],
   "source": [
    "20 in mylist"
   ]
  },
  {
   "cell_type": "code",
   "execution_count": 26,
   "id": "5c695f62-1792-4cca-8a0e-41398cec3d20",
   "metadata": {},
   "outputs": [
    {
     "name": "stdout",
     "output_type": "stream",
     "text": [
      "[1, 2, 3, 4, 5, 6, 7, 8]\n"
     ]
    }
   ],
   "source": [
    "l1 = [1,2,3,4,5,6,7,8]\n",
    "\n",
    "print(l1)"
   ]
  },
  {
   "cell_type": "code",
   "execution_count": 69,
   "id": "7d1af874-8c92-46a8-8b2e-0aa091dcac20",
   "metadata": {},
   "outputs": [
    {
     "data": {
      "text/plain": [
       "1"
      ]
     },
     "execution_count": 69,
     "metadata": {},
     "output_type": "execute_result"
    }
   ],
   "source": [
    "l1[0]"
   ]
  },
  {
   "cell_type": "code",
   "execution_count": 70,
   "id": "1182a472-9541-465e-9ba1-00ef2fd010d9",
   "metadata": {},
   "outputs": [
    {
     "data": {
      "text/plain": [
       "[2, 3, 4, 5, 6, 7, 8]"
      ]
     },
     "execution_count": 70,
     "metadata": {},
     "output_type": "execute_result"
    }
   ],
   "source": [
    "l1[1:]"
   ]
  },
  {
   "cell_type": "code",
   "execution_count": 71,
   "id": "ee376aaf-1b0f-45f8-a7b0-d9e40e73bbfb",
   "metadata": {},
   "outputs": [
    {
     "data": {
      "text/plain": [
       "[1, 2, 3, 4, 5, 6, 7, 8]"
      ]
     },
     "execution_count": 71,
     "metadata": {},
     "output_type": "execute_result"
    }
   ],
   "source": [
    "l1[: :]"
   ]
  },
  {
   "cell_type": "code",
   "execution_count": 72,
   "id": "aea13ef7-872d-4dc2-9db0-c9141c87074a",
   "metadata": {},
   "outputs": [
    {
     "data": {
      "text/plain": [
       "[1, 4, 7]"
      ]
     },
     "execution_count": 72,
     "metadata": {},
     "output_type": "execute_result"
    }
   ],
   "source": [
    "l1[::3]"
   ]
  },
  {
   "cell_type": "code",
   "execution_count": 73,
   "id": "26cdef2b-113b-47d6-89f9-efdf5011a98e",
   "metadata": {},
   "outputs": [
    {
     "data": {
      "text/plain": [
       "[1, 3, 5, 7]"
      ]
     },
     "execution_count": 73,
     "metadata": {},
     "output_type": "execute_result"
    }
   ],
   "source": [
    "l1[::2]"
   ]
  },
  {
   "cell_type": "code",
   "execution_count": 74,
   "id": "7c741e2a-62df-4ef3-9f61-5e5e9ca0243d",
   "metadata": {},
   "outputs": [
    {
     "name": "stdout",
     "output_type": "stream",
     "text": [
      "[1, 'arc', True, [2, 3, 4]]\n"
     ]
    }
   ],
   "source": [
    "l2 = [1, \"arc\", True, [2,3,4]]\n",
    "\n",
    "print(l2)"
   ]
  },
  {
   "cell_type": "code",
   "execution_count": 78,
   "id": "6ee37108-6c72-428b-96a6-7f20720eba8f",
   "metadata": {},
   "outputs": [
    {
     "name": "stdout",
     "output_type": "stream",
     "text": [
      "[[1, 2, 3, 4, 5, 6, 7, 8], 9, 10, 11, 12]\n"
     ]
    }
   ],
   "source": [
    "l3 = [l1,9,10,11,12]\n",
    "\n",
    "print(l3)"
   ]
  },
  {
   "cell_type": "code",
   "execution_count": 77,
   "id": "dddde226-aee4-4711-b007-7e11a80b82a2",
   "metadata": {},
   "outputs": [
    {
     "data": {
      "text/plain": [
       "4"
      ]
     },
     "execution_count": 77,
     "metadata": {},
     "output_type": "execute_result"
    }
   ],
   "source": [
    "l3[0][3]"
   ]
  },
  {
   "cell_type": "code",
   "execution_count": 76,
   "id": "f15ecc93-f515-404e-90a2-9b767f48e43e",
   "metadata": {},
   "outputs": [
    {
     "data": {
      "text/plain": [
       "[2, 3, 4]"
      ]
     },
     "execution_count": 76,
     "metadata": {},
     "output_type": "execute_result"
    }
   ],
   "source": [
    "l2[3]"
   ]
  },
  {
   "cell_type": "code",
   "execution_count": 79,
   "id": "deb68320-8799-4fca-bfc0-55783a19eb85",
   "metadata": {},
   "outputs": [
    {
     "data": {
      "text/plain": [
       "4"
      ]
     },
     "execution_count": 79,
     "metadata": {},
     "output_type": "execute_result"
    }
   ],
   "source": [
    "l2[3][2]"
   ]
  },
  {
   "cell_type": "markdown",
   "id": "30270eb8-a826-44d1-b5ec-d7b4b0d728e0",
   "metadata": {},
   "source": [
    "## Range"
   ]
  },
  {
   "cell_type": "code",
   "execution_count": 80,
   "id": "fe2c0690-2cbe-4681-9d16-499d2f006d79",
   "metadata": {},
   "outputs": [
    {
     "data": {
      "text/plain": [
       "[0, 5, 10, 15, 20, 25, 30, 35, 40, 45]"
      ]
     },
     "execution_count": 80,
     "metadata": {},
     "output_type": "execute_result"
    }
   ],
   "source": [
    "list(range(0,50,5))"
   ]
  },
  {
   "cell_type": "code",
   "execution_count": 137,
   "id": "49dfd2bc-073a-4d73-9ed6-837b19276ef1",
   "metadata": {},
   "outputs": [
    {
     "name": "stdout",
     "output_type": "stream",
     "text": [
      "[0, 5, 10, 15, 20, 25, 30, 35, 40, 45, 50, 55, 60, 65, 70, 75]\n"
     ]
    }
   ],
   "source": [
    "l4 = list(range(0,80,5)) \n",
    "\n",
    "print(l4)"
   ]
  },
  {
   "cell_type": "markdown",
   "id": "9f24ce34-c072-4a6f-a473-243211a52113",
   "metadata": {},
   "source": [
    "## Sort"
   ]
  },
  {
   "cell_type": "code",
   "execution_count": 107,
   "id": "b241aa05-abe1-4906-ae8a-1ec2a699c54a",
   "metadata": {},
   "outputs": [
    {
     "name": "stdout",
     "output_type": "stream",
     "text": [
      "[23, 31, 1, 45, 17, 4, 5, 90, 43, 21]\n"
     ]
    }
   ],
   "source": [
    "l5 = [23,31,1,45,17,4,5,90,43,21]\n",
    "\n",
    "print(l5)"
   ]
  },
  {
   "cell_type": "code",
   "execution_count": 108,
   "id": "0c17a6f8-a65f-49e9-98f8-a8adef36a017",
   "metadata": {},
   "outputs": [],
   "source": [
    "l5.sort()"
   ]
  },
  {
   "cell_type": "code",
   "execution_count": 109,
   "id": "e3ac09f7-20ef-480c-af91-f15ee9123756",
   "metadata": {},
   "outputs": [
    {
     "data": {
      "text/plain": [
       "[1, 4, 5, 17, 21, 23, 31, 43, 45, 90]"
      ]
     },
     "execution_count": 109,
     "metadata": {},
     "output_type": "execute_result"
    }
   ],
   "source": [
    "l5"
   ]
  },
  {
   "cell_type": "code",
   "execution_count": 110,
   "id": "a49685fd-ad30-4457-a760-0f654519d932",
   "metadata": {},
   "outputs": [
    {
     "name": "stdout",
     "output_type": "stream",
     "text": [
      "[90, 45, 43, 31, 23, 21, 17, 5, 4, 1]\n"
     ]
    }
   ],
   "source": [
    "l5.sort(reverse= True)\n",
    "\n",
    "print(l5)"
   ]
  },
  {
   "cell_type": "code",
   "execution_count": 111,
   "id": "c503902b-1b57-45d0-baed-8c44e9b5adb4",
   "metadata": {},
   "outputs": [
    {
     "data": {
      "text/plain": [
       "[90, 45, 43, 31, 23, 21, 17, 5, 4, 1]"
      ]
     },
     "execution_count": 111,
     "metadata": {},
     "output_type": "execute_result"
    }
   ],
   "source": [
    "l5"
   ]
  },
  {
   "cell_type": "code",
   "execution_count": 112,
   "id": "03e359c8-0fd0-453c-a19a-45d3cb6dea7e",
   "metadata": {},
   "outputs": [
    {
     "name": "stdout",
     "output_type": "stream",
     "text": [
      "[1, 4, 5, 17, 21, 23, 31, 43, 45, 90]\n"
     ]
    }
   ],
   "source": [
    "l5.sort()\n",
    "\n",
    "print(l5)"
   ]
  },
  {
   "cell_type": "markdown",
   "id": "0fc7f4ca-7022-436f-979c-2b7e1d757d21",
   "metadata": {},
   "source": [
    "## Append"
   ]
  },
  {
   "cell_type": "code",
   "execution_count": 138,
   "id": "de70f2e0-c721-4f19-8d0f-00d8bfc77dec",
   "metadata": {},
   "outputs": [
    {
     "data": {
      "text/plain": [
       "[0, 5, 10, 15, 20, 25, 30, 35, 40, 45, 50, 55, 60, 65, 70, 75]"
      ]
     },
     "execution_count": 138,
     "metadata": {},
     "output_type": "execute_result"
    }
   ],
   "source": [
    "l4"
   ]
  },
  {
   "cell_type": "code",
   "execution_count": 139,
   "id": "9c9224d7-ee1e-487a-a6e8-c2a9871b5235",
   "metadata": {},
   "outputs": [
    {
     "name": "stdout",
     "output_type": "stream",
     "text": [
      "[0, 5, 10, 15, 20, 25, 30, 35, 40, 45, 50, 55, 60, 65, 70, 75, 80]\n"
     ]
    }
   ],
   "source": [
    "l4.append(80)\n",
    "\n",
    "print(l4)"
   ]
  },
  {
   "cell_type": "markdown",
   "id": "5e951245-901e-43ce-b833-c8206aebc2dd",
   "metadata": {},
   "source": [
    "# change value"
   ]
  },
  {
   "cell_type": "code",
   "execution_count": 140,
   "id": "beae15cf-3e01-4cf4-b2ad-bc741113ee12",
   "metadata": {},
   "outputs": [
    {
     "name": "stdout",
     "output_type": "stream",
     "text": [
      "[1, 5, 10, 15, 20, 25, 30, 35, 40, 45, 50, 55, 60, 65, 70, 75, 80]\n"
     ]
    }
   ],
   "source": [
    "l4[0] = 1\n",
    "\n",
    "print(l4)"
   ]
  },
  {
   "cell_type": "code",
   "execution_count": 141,
   "id": "5ca5d503-7431-4e9c-ba9c-b1e3e2b181df",
   "metadata": {},
   "outputs": [],
   "source": [
    "l4[0:3]= [1,2,3]"
   ]
  },
  {
   "cell_type": "code",
   "execution_count": 142,
   "id": "4078cc6f-398e-43e0-851e-982e799b940c",
   "metadata": {},
   "outputs": [
    {
     "data": {
      "text/plain": [
       "[1, 2, 3, 15, 20, 25, 30, 35, 40, 45, 50, 55, 60, 65, 70, 75, 80]"
      ]
     },
     "execution_count": 142,
     "metadata": {},
     "output_type": "execute_result"
    }
   ],
   "source": [
    "l4"
   ]
  },
  {
   "cell_type": "markdown",
   "id": "578f3b38-fde5-4bc2-b127-b6d667fd8095",
   "metadata": {},
   "source": [
    "## Insert"
   ]
  },
  {
   "cell_type": "code",
   "execution_count": 143,
   "id": "869ae3c1-5d52-40f6-a3ec-eeca6e246190",
   "metadata": {},
   "outputs": [
    {
     "data": {
      "text/plain": [
       "[1, 2, 3, 15, 20, 25, 30, 35, 40, 45, 50, 55, 60, 65, 70, 75, 80]"
      ]
     },
     "execution_count": 143,
     "metadata": {},
     "output_type": "execute_result"
    }
   ],
   "source": [
    "l4"
   ]
  },
  {
   "cell_type": "code",
   "execution_count": 144,
   "id": "531c403d-d8c3-4fd8-9697-3dade0d57265",
   "metadata": {},
   "outputs": [],
   "source": [
    "l4.insert(0,\"string\")"
   ]
  },
  {
   "cell_type": "code",
   "execution_count": 145,
   "id": "3d3bf5f6-0282-4b05-bfda-103e3176cd31",
   "metadata": {},
   "outputs": [
    {
     "data": {
      "text/plain": [
       "['string', 1, 2, 3, 15, 20, 25, 30, 35, 40, 45, 50, 55, 60, 65, 70, 75, 80]"
      ]
     },
     "execution_count": 145,
     "metadata": {},
     "output_type": "execute_result"
    }
   ],
   "source": [
    "l4"
   ]
  },
  {
   "cell_type": "markdown",
   "id": "df0322cb-10ed-4d27-b9a8-8062262153f7",
   "metadata": {},
   "source": [
    "## Remove"
   ]
  },
  {
   "cell_type": "code",
   "execution_count": 146,
   "id": "f515deb3-5863-40a3-b21d-c2ba29c0a685",
   "metadata": {},
   "outputs": [],
   "source": [
    "l4.remove(2)"
   ]
  },
  {
   "cell_type": "code",
   "execution_count": 147,
   "id": "3e889dfa-1293-4319-b3bc-c8629ace8d22",
   "metadata": {},
   "outputs": [
    {
     "data": {
      "text/plain": [
       "['string', 1, 3, 15, 20, 25, 30, 35, 40, 45, 50, 55, 60, 65, 70, 75, 80]"
      ]
     },
     "execution_count": 147,
     "metadata": {},
     "output_type": "execute_result"
    }
   ],
   "source": [
    "l4"
   ]
  },
  {
   "cell_type": "code",
   "execution_count": 148,
   "id": "12971e03-b146-4587-a276-2fc8b4d89d9e",
   "metadata": {},
   "outputs": [],
   "source": [
    "l4.remove(\"string\")"
   ]
  },
  {
   "cell_type": "code",
   "execution_count": 149,
   "id": "992528ad-cdaa-45a1-9b59-e6847f5a6f65",
   "metadata": {},
   "outputs": [
    {
     "data": {
      "text/plain": [
       "[1, 3, 15, 20, 25, 30, 35, 40, 45, 50, 55, 60, 65, 70, 75, 80]"
      ]
     },
     "execution_count": 149,
     "metadata": {},
     "output_type": "execute_result"
    }
   ],
   "source": [
    "l4"
   ]
  },
  {
   "cell_type": "code",
   "execution_count": 150,
   "id": "40c07dcc-4e54-42b4-b53d-3b7a2f8179dc",
   "metadata": {},
   "outputs": [],
   "source": [
    "del l4[1]"
   ]
  },
  {
   "cell_type": "code",
   "execution_count": 151,
   "id": "62ed60b5-bd59-4efe-a7ef-dcaf3816aab4",
   "metadata": {},
   "outputs": [
    {
     "data": {
      "text/plain": [
       "[1, 15, 20, 25, 30, 35, 40, 45, 50, 55, 60, 65, 70, 75, 80]"
      ]
     },
     "execution_count": 151,
     "metadata": {},
     "output_type": "execute_result"
    }
   ],
   "source": [
    "l4"
   ]
  },
  {
   "cell_type": "code",
   "execution_count": 152,
   "id": "c1d9ff18-4913-4429-abd1-9cea610c2326",
   "metadata": {},
   "outputs": [
    {
     "name": "stdout",
     "output_type": "stream",
     "text": [
      "[1, 15, 20, 25, 30, 35, 40, 45, 50, 55, 60, 65, 70, 75, 80]\n"
     ]
    }
   ],
   "source": [
    "print(l4)"
   ]
  },
  {
   "cell_type": "code",
   "execution_count": 153,
   "id": "fbc09351-aa98-45b5-a0f1-95a73e913236",
   "metadata": {},
   "outputs": [],
   "source": [
    "del l4[0]"
   ]
  },
  {
   "cell_type": "code",
   "execution_count": 154,
   "id": "5f2aee21-fbbb-4e1d-8da8-7659f3f9e188",
   "metadata": {},
   "outputs": [
    {
     "data": {
      "text/plain": [
       "[15, 20, 25, 30, 35, 40, 45, 50, 55, 60, 65, 70, 75, 80]"
      ]
     },
     "execution_count": 154,
     "metadata": {},
     "output_type": "execute_result"
    }
   ],
   "source": [
    "l4"
   ]
  },
  {
   "cell_type": "code",
   "execution_count": 155,
   "id": "8a7a0b61-77b1-4585-baee-1ed8e2c011a9",
   "metadata": {},
   "outputs": [
    {
     "data": {
      "text/plain": [
       "int"
      ]
     },
     "execution_count": 155,
     "metadata": {},
     "output_type": "execute_result"
    }
   ],
   "source": [
    "type(1)"
   ]
  },
  {
   "cell_type": "code",
   "execution_count": 156,
   "id": "01695fa5-3fc0-4f2e-8a42-3f8300994e35",
   "metadata": {},
   "outputs": [
    {
     "data": {
      "text/plain": [
       "str"
      ]
     },
     "execution_count": 156,
     "metadata": {},
     "output_type": "execute_result"
    }
   ],
   "source": [
    "type('arc')"
   ]
  },
  {
   "cell_type": "code",
   "execution_count": 157,
   "id": "0dc0df98-44ac-41b5-9748-e03bf15d0dfe",
   "metadata": {},
   "outputs": [
    {
     "data": {
      "text/plain": [
       "bool"
      ]
     },
     "execution_count": 157,
     "metadata": {},
     "output_type": "execute_result"
    }
   ],
   "source": [
    "type(True)"
   ]
  },
  {
   "cell_type": "code",
   "execution_count": 158,
   "id": "264d10ec-c61c-47c7-ba58-bd696457b17a",
   "metadata": {},
   "outputs": [
    {
     "data": {
      "text/plain": [
       "list"
      ]
     },
     "execution_count": 158,
     "metadata": {},
     "output_type": "execute_result"
    }
   ],
   "source": [
    "type(l1)"
   ]
  },
  {
   "cell_type": "code",
   "execution_count": null,
   "id": "051329a4-31b1-4620-a985-5bf48b48dd38",
   "metadata": {},
   "outputs": [],
   "source": []
  },
  {
   "cell_type": "code",
   "execution_count": null,
   "id": "b3cc6bca-bc93-4ac2-886b-109ad56a7109",
   "metadata": {},
   "outputs": [],
   "source": []
  }
 ],
 "metadata": {
  "kernelspec": {
   "display_name": "Python 3 (ipykernel)",
   "language": "python",
   "name": "python3"
  },
  "language_info": {
   "codemirror_mode": {
    "name": "ipython",
    "version": 3
   },
   "file_extension": ".py",
   "mimetype": "text/x-python",
   "name": "python",
   "nbconvert_exporter": "python",
   "pygments_lexer": "ipython3",
   "version": "3.11.7"
  }
 },
 "nbformat": 4,
 "nbformat_minor": 5
}
