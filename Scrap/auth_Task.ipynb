{
 "cells": [
  {
   "cell_type": "code",
   "execution_count": 1,
   "metadata": {},
   "outputs": [],
   "source": [
    "import requests as rq"
   ]
  },
  {
   "cell_type": "code",
   "execution_count": 2,
   "metadata": {},
   "outputs": [],
   "source": [
    "url = \"https://api.openaq.org/v2/cities?country=In\""
   ]
  },
  {
   "cell_type": "code",
   "execution_count": 5,
   "metadata": {},
   "outputs": [
    {
     "data": {
      "text/plain": [
       "tuple"
      ]
     },
     "execution_count": 5,
     "metadata": {},
     "output_type": "execute_result"
    }
   ],
   "source": [
    "aAuth = ('country', 'IN' )\n",
    "\n",
    "type(aAuth)"
   ]
  },
  {
   "cell_type": "code",
   "execution_count": 8,
   "metadata": {},
   "outputs": [
    {
     "name": "stdout",
     "output_type": "stream",
     "text": [
      "<Response [200]>\n",
      "{'meta': {'name': 'openaq-api', 'license': '', 'website': '/', 'page': 1, 'limit': 100, 'found': 4}, 'results': [{'country': 'IN', 'city': 'Chennai', 'count': 9334, 'locations': 1, 'firstUpdated': '2022-10-03 19:30:00+00', 'lastUpdated': '2024-05-28 09:30:00+00', 'parameters': ['pm25']}, {'country': 'IN', 'city': 'Hyderabad', 'count': 59702, 'locations': 1, 'firstUpdated': '2016-11-09 17:30:00+00', 'lastUpdated': '2024-05-28 09:30:00+00', 'parameters': ['pm25']}, {'country': 'IN', 'city': 'India', 'count': 127421, 'locations': 3, 'firstUpdated': '2016-11-09 17:30:00+00', 'lastUpdated': '2024-05-28 09:30:00+00', 'parameters': ['pm25']}, {'country': 'IN', 'city': 'Kanpur', 'count': 546, 'locations': 1, 'firstUpdated': '2019-10-21 13:00:00+00', 'lastUpdated': '2019-11-25 13:00:00+00', 'parameters': ['pm25']}]}\n"
     ]
    }
   ],
   "source": [
    "aResp = rq.get(url, auth = aAuth)\n",
    "\n",
    "print(aResp)\n",
    "\n",
    "print(aResp.json())"
   ]
  },
  {
   "cell_type": "code",
   "execution_count": 7,
   "metadata": {},
   "outputs": [
    {
     "data": {
      "text/plain": [
       "{'meta': {'name': 'openaq-api',\n",
       "  'license': '',\n",
       "  'website': '/',\n",
       "  'page': 1,\n",
       "  'limit': 100,\n",
       "  'found': 4},\n",
       " 'results': [{'country': 'IN',\n",
       "   'city': 'Chennai',\n",
       "   'count': 9334,\n",
       "   'locations': 1,\n",
       "   'firstUpdated': '2022-10-03 19:30:00+00',\n",
       "   'lastUpdated': '2024-05-28 09:30:00+00',\n",
       "   'parameters': ['pm25']},\n",
       "  {'country': 'IN',\n",
       "   'city': 'Hyderabad',\n",
       "   'count': 59702,\n",
       "   'locations': 1,\n",
       "   'firstUpdated': '2016-11-09 17:30:00+00',\n",
       "   'lastUpdated': '2024-05-28 09:30:00+00',\n",
       "   'parameters': ['pm25']},\n",
       "  {'country': 'IN',\n",
       "   'city': 'India',\n",
       "   'count': 127421,\n",
       "   'locations': 3,\n",
       "   'firstUpdated': '2016-11-09 17:30:00+00',\n",
       "   'lastUpdated': '2024-05-28 09:30:00+00',\n",
       "   'parameters': ['pm25']},\n",
       "  {'country': 'IN',\n",
       "   'city': 'Kanpur',\n",
       "   'count': 546,\n",
       "   'locations': 1,\n",
       "   'firstUpdated': '2019-10-21 13:00:00+00',\n",
       "   'lastUpdated': '2019-11-25 13:00:00+00',\n",
       "   'parameters': ['pm25']}]}"
      ]
     },
     "execution_count": 7,
     "metadata": {},
     "output_type": "execute_result"
    }
   ],
   "source": [
    "aResp.json()"
   ]
  },
  {
   "cell_type": "code",
   "execution_count": 9,
   "metadata": {},
   "outputs": [
    {
     "data": {
      "text/plain": [
       "('user', 'passwd')"
      ]
     },
     "execution_count": 9,
     "metadata": {},
     "output_type": "execute_result"
    }
   ],
   "source": [
    "furl = \"https://httpbin.dev/basic-auth/user/passwd\"\n",
    "\n",
    "fAuth = ('user' , 'passwd')\n",
    "\n",
    "fAuth"
   ]
  },
  {
   "cell_type": "code",
   "execution_count": 12,
   "metadata": {},
   "outputs": [],
   "source": [
    "fResp = rq.get(furl, auth=fAuth)\n",
    "\n"
   ]
  },
  {
   "cell_type": "code",
   "execution_count": 11,
   "metadata": {},
   "outputs": [
    {
     "name": "stdout",
     "output_type": "stream",
     "text": [
      "{'authorized': True, 'user': 'user'}\n"
     ]
    }
   ],
   "source": [
    "print(fResp.json())"
   ]
  },
  {
   "cell_type": "code",
   "execution_count": null,
   "metadata": {},
   "outputs": [],
   "source": []
  }
 ],
 "metadata": {
  "kernelspec": {
   "display_name": "Python 3",
   "language": "python",
   "name": "python3"
  },
  "language_info": {
   "codemirror_mode": {
    "name": "ipython",
    "version": 3
   },
   "file_extension": ".py",
   "mimetype": "text/x-python",
   "name": "python",
   "nbconvert_exporter": "python",
   "pygments_lexer": "ipython3",
   "version": "3.12.3"
  }
 },
 "nbformat": 4,
 "nbformat_minor": 2
}
