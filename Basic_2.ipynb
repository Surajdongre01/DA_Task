{
 "cells": [
  {
   "cell_type": "markdown",
   "id": "83b773c0-f13f-48cd-8f46-5574e894f466",
   "metadata": {},
   "source": [
    "## Logical Operation"
   ]
  },
  {
   "cell_type": "code",
   "execution_count": 1,
   "id": "b9d11a59-e3bf-4682-8256-8efc7c148db9",
   "metadata": {},
   "outputs": [],
   "source": [
    "a = 10\n",
    "b = 15\n",
    "c = 20\n",
    "d = 25"
   ]
  },
  {
   "cell_type": "code",
   "execution_count": 2,
   "id": "7d866cf3-5094-479c-beb0-48c70b5d22ae",
   "metadata": {},
   "outputs": [
    {
     "name": "stdout",
     "output_type": "stream",
     "text": [
      "10 15 20 25\n"
     ]
    }
   ],
   "source": [
    "print(a,b,c,d)"
   ]
  },
  {
   "cell_type": "code",
   "execution_count": 3,
   "id": "2ece961e-30ca-4023-95f7-e30f2e5b1276",
   "metadata": {},
   "outputs": [],
   "source": [
    "# compare or equal to\n",
    "\n",
    "a = b"
   ]
  },
  {
   "cell_type": "code",
   "execution_count": 4,
   "id": "92321ec8-54d3-4fe4-bb2c-be911522c210",
   "metadata": {},
   "outputs": [
    {
     "data": {
      "text/plain": [
       "15"
      ]
     },
     "execution_count": 4,
     "metadata": {},
     "output_type": "execute_result"
    }
   ],
   "source": [
    "a"
   ]
  },
  {
   "cell_type": "code",
   "execution_count": 5,
   "id": "99e2754d-20f8-4a35-ac5b-3c3107dc57d7",
   "metadata": {},
   "outputs": [
    {
     "data": {
      "text/plain": [
       "15"
      ]
     },
     "execution_count": 5,
     "metadata": {},
     "output_type": "execute_result"
    }
   ],
   "source": [
    "b"
   ]
  },
  {
   "cell_type": "code",
   "execution_count": 7,
   "id": "5a968463-7452-48fe-84ab-4a2b24c53942",
   "metadata": {},
   "outputs": [
    {
     "name": "stdout",
     "output_type": "stream",
     "text": [
      "15 15 20\n"
     ]
    }
   ],
   "source": [
    "print(a,b,c)"
   ]
  },
  {
   "cell_type": "code",
   "execution_count": 8,
   "id": "ea2f991f-9e2b-44db-b40b-93f34516f55e",
   "metadata": {},
   "outputs": [],
   "source": [
    "a = 10\n",
    "b = 15\n",
    "c = 20\n",
    "d = 25"
   ]
  },
  {
   "cell_type": "code",
   "execution_count": 9,
   "id": "d1e4bb1a-d242-431e-bb9b-446868e98bf2",
   "metadata": {},
   "outputs": [
    {
     "name": "stdout",
     "output_type": "stream",
     "text": [
      "10 15 20 25\n"
     ]
    }
   ],
   "source": [
    "print(a,b,c,d)"
   ]
  },
  {
   "cell_type": "code",
   "execution_count": 10,
   "id": "1fa7d449-1c02-4f89-a5d9-96a19605086c",
   "metadata": {},
   "outputs": [
    {
     "data": {
      "text/plain": [
       "False"
      ]
     },
     "execution_count": 10,
     "metadata": {},
     "output_type": "execute_result"
    }
   ],
   "source": [
    "# compare or equal to\n",
    "\n",
    "a == b"
   ]
  },
  {
   "cell_type": "code",
   "execution_count": 11,
   "id": "4fe5995d-2355-4275-b659-cb31d0f22005",
   "metadata": {},
   "outputs": [
    {
     "data": {
      "text/plain": [
       "True"
      ]
     },
     "execution_count": 11,
     "metadata": {},
     "output_type": "execute_result"
    }
   ],
   "source": [
    "d> a"
   ]
  },
  {
   "cell_type": "code",
   "execution_count": 12,
   "id": "cfd71989-45b4-49c2-b1b1-0da9cb91be93",
   "metadata": {},
   "outputs": [
    {
     "data": {
      "text/plain": [
       "False"
      ]
     },
     "execution_count": 12,
     "metadata": {},
     "output_type": "execute_result"
    }
   ],
   "source": [
    "c < a"
   ]
  },
  {
   "cell_type": "code",
   "execution_count": 13,
   "id": "a29a7c7f-8d9e-4c60-8a33-14bb5b5c0529",
   "metadata": {},
   "outputs": [
    {
     "data": {
      "text/plain": [
       "False"
      ]
     },
     "execution_count": 13,
     "metadata": {},
     "output_type": "execute_result"
    }
   ],
   "source": [
    "a==c"
   ]
  },
  {
   "cell_type": "code",
   "execution_count": 14,
   "id": "a22aceaa-f4df-4085-9459-9d1f93a4b0bb",
   "metadata": {},
   "outputs": [
    {
     "data": {
      "text/plain": [
       "True"
      ]
     },
     "execution_count": 14,
     "metadata": {},
     "output_type": "execute_result"
    }
   ],
   "source": [
    "b!=d"
   ]
  },
  {
   "cell_type": "code",
   "execution_count": null,
   "id": "7d92a73e-42ff-4726-8b4a-c342d2407c3c",
   "metadata": {},
   "outputs": [],
   "source": []
  },
  {
   "cell_type": "markdown",
   "id": "5e7d0b51-1d50-4eaf-a400-7580091c3c46",
   "metadata": {},
   "source": [
    "# String"
   ]
  },
  {
   "cell_type": "code",
   "execution_count": 16,
   "id": "a091f311-7861-4711-affa-31cff00f8b2a",
   "metadata": {},
   "outputs": [
    {
     "data": {
      "text/plain": [
       "'This is a string'"
      ]
     },
     "execution_count": 16,
     "metadata": {},
     "output_type": "execute_result"
    }
   ],
   "source": [
    "'This is a string'"
   ]
  },
  {
   "cell_type": "code",
   "execution_count": 18,
   "id": "98560e90-76ed-4298-a94e-6d6b06c56c71",
   "metadata": {},
   "outputs": [
    {
     "data": {
      "text/plain": [
       "' this is a double quote string'"
      ]
     },
     "execution_count": 18,
     "metadata": {},
     "output_type": "execute_result"
    }
   ],
   "source": [
    "\" this is a double quote string\""
   ]
  },
  {
   "cell_type": "code",
   "execution_count": 19,
   "id": "dba303ac-e4d0-497e-b73d-5c2a22e40499",
   "metadata": {},
   "outputs": [
    {
     "data": {
      "text/plain": [
       "\"this is a new value's\""
      ]
     },
     "execution_count": 19,
     "metadata": {},
     "output_type": "execute_result"
    }
   ],
   "source": [
    "\"this is a new value's\""
   ]
  },
  {
   "cell_type": "code",
   "execution_count": 21,
   "id": "4292505b-f7d7-4322-bd59-75b1cfbde978",
   "metadata": {},
   "outputs": [],
   "source": [
    "day1 = 'mon'\n",
    "day2 = 'tue'\n",
    "day3 = 'wed'\n",
    "day4 = 'thur'\n",
    "day5 = 'fri'"
   ]
  },
  {
   "cell_type": "code",
   "execution_count": 22,
   "id": "dac0d1dd-be67-4876-b2ca-5d286316e247",
   "metadata": {},
   "outputs": [
    {
     "name": "stdout",
     "output_type": "stream",
     "text": [
      "mon\n",
      "tue\n",
      "wed\n",
      "thur\n",
      "fri\n"
     ]
    }
   ],
   "source": [
    "print(day1)\n",
    "print(day2)\n",
    "print(day3)\n",
    "print(day4)\n",
    "print(day5)\n"
   ]
  },
  {
   "cell_type": "code",
   "execution_count": 23,
   "id": "0890efdc-079b-48dc-acab-f66480fde09c",
   "metadata": {},
   "outputs": [
    {
     "name": "stdout",
     "output_type": "stream",
     "text": [
      " day1 = mon\n"
     ]
    }
   ],
   "source": [
    "print(\" day1 = {}\".format(day1))"
   ]
  },
  {
   "cell_type": "code",
   "execution_count": 25,
   "id": "12d5e003-4733-4b93-a5f9-71551eea2ecd",
   "metadata": {},
   "outputs": [
    {
     "name": "stdout",
     "output_type": "stream",
     "text": [
      " day2 = tue\n",
      " day3 = wed , day4 = thur\n",
      " day5 = fri\n"
     ]
    }
   ],
   "source": [
    "print(\" day2 = {}\".format(day2))\n",
    "\n",
    "print(\" day3 = {} , day4 = {}\".format(day3,day4))\n",
    "\n",
    "print(\" day5 = {}\".format(day5))"
   ]
  },
  {
   "cell_type": "code",
   "execution_count": 29,
   "id": "1a4d621e-e101-4d56-9882-b8f524944482",
   "metadata": {},
   "outputs": [
    {
     "name": "stdout",
     "output_type": "stream",
     "text": [
      " day3 = wed , day4 = thur\n"
     ]
    }
   ],
   "source": [
    "print(f\" day3 = {day3} , day4 = {day4}\")"
   ]
  },
  {
   "cell_type": "code",
   "execution_count": null,
   "id": "8b121725-c66e-4b12-8eda-71d2a1e596bc",
   "metadata": {},
   "outputs": [],
   "source": []
  }
 ],
 "metadata": {
  "kernelspec": {
   "display_name": "Python 3 (ipykernel)",
   "language": "python",
   "name": "python3"
  },
  "language_info": {
   "codemirror_mode": {
    "name": "ipython",
    "version": 3
   },
   "file_extension": ".py",
   "mimetype": "text/x-python",
   "name": "python",
   "nbconvert_exporter": "python",
   "pygments_lexer": "ipython3",
   "version": "3.11.7"
  }
 },
 "nbformat": 4,
 "nbformat_minor": 5
}
