{
 "cells": [
  {
   "cell_type": "code",
   "execution_count": 2,
   "id": "69c41f3f-7c1d-4b71-9e4d-56ec178328ba",
   "metadata": {},
   "outputs": [
    {
     "name": "stdout",
     "output_type": "stream",
     "text": [
      "12\n"
     ]
    }
   ],
   "source": [
    "def addvalue (x,y):\n",
    "    result = x + y\n",
    "    return result \n",
    "\n",
    "addresult = addvalue(10,2)\n",
    "\n",
    "print(addresult)\n",
    "    \n",
    "    "
   ]
  },
  {
   "cell_type": "code",
   "execution_count": 3,
   "id": "7a7c538c-c347-4eac-bee6-5c20543a975d",
   "metadata": {},
   "outputs": [
    {
     "name": "stdout",
     "output_type": "stream",
     "text": [
      "-40\n"
     ]
    }
   ],
   "source": [
    "def subvalue (x,y):\n",
    "    result = x - y\n",
    "    return result\n",
    "\n",
    "subresult = subvalue(10,50)\n",
    "\n",
    "print(subresult)"
   ]
  },
  {
   "cell_type": "code",
   "execution_count": 4,
   "id": "0f21e624-56fd-4476-a138-60ca8ff48197",
   "metadata": {},
   "outputs": [
    {
     "name": "stdout",
     "output_type": "stream",
     "text": [
      "50\n"
     ]
    }
   ],
   "source": [
    "def multivalue (x,y):\n",
    "    result = x * y\n",
    "    return result\n",
    "\n",
    "multiresult = multivalue(5,10)\n",
    "\n",
    "print(multiresult)"
   ]
  },
  {
   "cell_type": "code",
   "execution_count": 5,
   "id": "594175ae-baca-46ce-8fe0-b129cb147276",
   "metadata": {},
   "outputs": [
    {
     "name": "stdout",
     "output_type": "stream",
     "text": [
      "11.0\n"
     ]
    }
   ],
   "source": [
    "def divvalue (x,y):\n",
    "    result = x / y\n",
    "    return result\n",
    "\n",
    "divresult = divvalue(55,5)\n",
    "\n",
    "print(divresult)"
   ]
  },
  {
   "cell_type": "code",
   "execution_count": 6,
   "id": "0a63ba82-21f9-41ea-894a-9ead1b59fb6c",
   "metadata": {},
   "outputs": [
    {
     "name": "stdout",
     "output_type": "stream",
     "text": [
      "[2, 4]\n"
     ]
    }
   ],
   "source": [
    "def modvalue (x,y):\n",
    "    result = [x,y]\n",
    "    return result\n",
    "\n",
    "modresult = modvalue(2,4)\n",
    "print(modresult)"
   ]
  },
  {
   "cell_type": "code",
   "execution_count": 1,
   "id": "564336af-b04a-476e-ac86-943e04c01be5",
   "metadata": {},
   "outputs": [
    {
     "name": "stdout",
     "output_type": "stream",
     "text": [
      "{'name': 'john', 'class': 'data_analytics', 'batch': 'DA'}\n"
     ]
    }
   ],
   "source": [
    "def student(name1,class1,batch):\n",
    "    result = {\"name\": name1,\n",
    "              \"class\": class1,\n",
    "               \"batch\": batch }\n",
    "    \n",
    "    return result\n",
    "\n",
    "output = student(\"john\",\"data_analytics\",\"DA\")\n",
    "\n",
    "print(output)\n",
    "\n",
    "\n"
   ]
  },
  {
   "cell_type": "code",
   "execution_count": 2,
   "id": "01dd9af3",
   "metadata": {},
   "outputs": [
    {
     "name": "stdout",
     "output_type": "stream",
     "text": [
      "{'name': 'marriage', 'place': 'pune', 'time': '07:00 PM'}\n"
     ]
    }
   ],
   "source": [
    "def program(function,location,timing):\n",
    "    result  = {\"name\": function,\n",
    "               \"place\": location,\n",
    "               \"time\": timing }\n",
    "    \n",
    "    return result\n",
    "\n",
    "output = program(\"marriage\",\"pune\",\"07:00 PM\")\n",
    "\n",
    "print(output)"
   ]
  },
  {
   "cell_type": "code",
   "execution_count": null,
   "id": "a7783085",
   "metadata": {},
   "outputs": [],
   "source": []
  }
 ],
 "metadata": {
  "kernelspec": {
   "display_name": "Python 3 (ipykernel)",
   "language": "python",
   "name": "python3"
  },
  "language_info": {
   "codemirror_mode": {
    "name": "ipython",
    "version": 3
   },
   "file_extension": ".py",
   "mimetype": "text/x-python",
   "name": "python",
   "nbconvert_exporter": "python",
   "pygments_lexer": "ipython3",
   "version": "3.12.3"
  }
 },
 "nbformat": 4,
 "nbformat_minor": 5
}
